{
 "cells": [
  {
   "cell_type": "code",
   "execution_count": 71,
   "metadata": {
    "executionInfo": {
     "elapsed": 1125,
     "status": "ok",
     "timestamp": 1619590307186,
     "user": {
      "displayName": "ali ghandi",
      "photoUrl": "https://lh3.googleusercontent.com/a-/AOh14GgpQfDUUwGAY8UikVPosVH-EO9X3F39efNCaXLmxA=s64",
      "userId": "08717455413485940524"
     },
     "user_tz": -270
    },
    "id": "KfHhmJDnh2h4"
   },
   "outputs": [],
   "source": [
    "import matplotlib.pyplot as plt\n",
    "import numpy as np"
   ]
  },
  {
   "cell_type": "code",
   "execution_count": 72,
   "metadata": {
    "executionInfo": {
     "elapsed": 1123,
     "status": "ok",
     "timestamp": 1619590307188,
     "user": {
      "displayName": "ali ghandi",
      "photoUrl": "https://lh3.googleusercontent.com/a-/AOh14GgpQfDUUwGAY8UikVPosVH-EO9X3F39efNCaXLmxA=s64",
      "userId": "08717455413485940524"
     },
     "user_tz": -270
    },
    "id": "McekbZAah2h-"
   },
   "outputs": [],
   "source": [
    "NUM_TRIALS = 5000\n",
    "EPS = 0.5\n",
    "BANDIT_PROBABILITIES = [0.1, 0.2, 0.35, 0.5, 0.65, 0.75, 0.9]"
   ]
  },
  {
   "cell_type": "code",
   "execution_count": 73,
   "metadata": {
    "executionInfo": {
     "elapsed": 1121,
     "status": "ok",
     "timestamp": 1619590307189,
     "user": {
      "displayName": "ali ghandi",
      "photoUrl": "https://lh3.googleusercontent.com/a-/AOh14GgpQfDUUwGAY8UikVPosVH-EO9X3F39efNCaXLmxA=s64",
      "userId": "08717455413485940524"
     },
     "user_tz": -270
    },
    "id": "iyD1eqwKh2h_"
   },
   "outputs": [],
   "source": [
    "class Bandit:\n",
    "    def __init__(self, p):\n",
    "        # p: the win rate\n",
    "        self.p = p\n",
    "        self.p_estimate = 5.\n",
    "        self.N = 1. # num samples collected so far\n",
    "\n",
    "    def pull(self):\n",
    "        # draw a 1 with probability p\n",
    "        return np.random.random() < self.p\n",
    "\n",
    "    def update(self, x):\n",
    "        self.N += 1.\n",
    "        self.p_estimate = ((self.N - 1)*self.p_estimate + x) / self.N"
   ]
  },
  {
   "cell_type": "code",
   "execution_count": 74,
   "metadata": {
    "executionInfo": {
     "elapsed": 1120,
     "status": "ok",
     "timestamp": 1619590307192,
     "user": {
      "displayName": "ali ghandi",
      "photoUrl": "https://lh3.googleusercontent.com/a-/AOh14GgpQfDUUwGAY8UikVPosVH-EO9X3F39efNCaXLmxA=s64",
      "userId": "08717455413485940524"
     },
     "user_tz": -270
    },
    "id": "Q5nvQIPXh2h_"
   },
   "outputs": [],
   "source": [
    "def experiment():\n",
    "    bandits = [Bandit(p) for p in BANDIT_PROBABILITIES]\n",
    "\n",
    "    rewards = np.zeros(NUM_TRIALS)\n",
    "    for i in range(NUM_TRIALS):\n",
    "        best_win = np.argmax([b.p_estimate for b in bandits])\n",
    "        x = bandits[best_win].pull()\n",
    "        rewards[i] = x\n",
    "        bandits[best_win].update(x)\n",
    "\n",
    "\n",
    "    # print mean estimates for each bandit\n",
    "    for b in bandits:\n",
    "        print(\"mean estimate:\", b.p_estimate)\n",
    "\n",
    "    # print total reward\n",
    "    print(\"total reward earned:\", rewards.sum())\n",
    "    print(\"overall win rate:\", rewards.sum() / NUM_TRIALS)\n",
    "    print(\"num times selected each bandit:\", [b.N for b in bandits])\n",
    "\n",
    "    # plot the results\n",
    "    cumulative_rewards = np.cumsum(rewards)\n",
    "    win_rates = cumulative_rewards / (np.arange(NUM_TRIALS) + 1)\n",
    "    plt.ylim([0, 1])\n",
    "    plt.plot(win_rates)\n",
    "    plt.plot(np.ones(NUM_TRIALS)*np.max(BANDIT_PROBABILITIES))\n",
    "    plt.show()"
   ]
  },
  {
   "cell_type": "code",
   "execution_count": 75,
   "metadata": {
    "colab": {
     "base_uri": "https://localhost:8080/",
     "height": 373
    },
    "executionInfo": {
     "elapsed": 1817,
     "status": "ok",
     "timestamp": 1619590307897,
     "user": {
      "displayName": "ali ghandi",
      "photoUrl": "https://lh3.googleusercontent.com/a-/AOh14GgpQfDUUwGAY8UikVPosVH-EO9X3F39efNCaXLmxA=s64",
      "userId": "08717455413485940524"
     },
     "user_tz": -270
    },
    "id": "2pXfwzTkh2iA",
    "outputId": "55a8d825-26ae-4f06-974c-685898e0900d"
   },
   "outputs": [
    {
     "name": "stdout",
     "output_type": "stream",
     "text": [
      "mean estimate: 0.8333333333333334\n",
      "mean estimate: 0.875\n",
      "mean estimate: 0.8181818181818182\n",
      "mean estimate: 0.8571428571428571\n",
      "mean estimate: 0.8333333333333334\n",
      "mean estimate: 0.875\n",
      "mean estimate: 0.8952900747928043\n",
      "total reward earned: 4445.0\n",
      "overall win rate: 0.889\n",
      "num times selected each bandit: [6.0, 8.0, 11.0, 7.0, 12.0, 16.0, 4947.0]\n"
     ]
    },
    {
     "data": {
      "image/png": "[encoded data removed]",
      "text/plain": [
       "<Figure size 640x480 with 1 Axes>"
      ]
     },
     "metadata": {},
     "output_type": "display_data"
    }
   ],
   "source": [
    "experiment()"
   ]
  }
 ],
 "metadata": {
  "colab": {
   "name": "optimistic.ipynb",
   "provenance": []
  },
  "kernelspec": {
   "display_name": "Python 3 (ipykernel)",
   "language": "python",
   "name": "python3"
  },
  "language_info": {
   "codemirror_mode": {
    "name": "ipython",
    "version": 3
   },
   "file_extension": ".py",
   "mimetype": "text/x-python",
   "name": "python",
   "nbconvert_exporter": "python",
   "pygments_lexer": "ipython3",
   "version": "3.9.17"
  }
 },
 "nbformat": 4,
 "nbformat_minor": 1
}
